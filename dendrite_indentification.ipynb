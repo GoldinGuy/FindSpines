{
 "cells": [
  {
   "cell_type": "markdown",
   "metadata": {},
   "source": [
    "# Dendrite Spine Identification Project\r\n",
    "\r\n",
    "#### Automating annotating dendritic spines in images using Faster Recurrent Convolutional Neural Networks (Faster RCNNs) & TensorFlow Object Detection. \r\n",
    "\r\n",
    "Heavily based on:\r\n",
    "- https://github.com/ily-R/Deep-Learning-for-Dendritic-Spines-Detection/blob/master/report.pdf\r\n",
    "- https://arxiv.org/abs/1506.01497"
   ]
  },
  {
   "cell_type": "markdown",
   "metadata": {},
   "source": [
    "## Preprocessing"
   ]
  },
  {
   "cell_type": "code",
   "execution_count": 1,
   "metadata": {},
   "outputs": [],
   "source": [
    "# data handling\r\n",
    "import pandas as pd\r\n",
    "import numpy as np\r\n",
    "import os\r\n",
    "import cv2\r\n",
    "import sys\r\n",
    "\r\n",
    "# tensorflow & object-detection\r\n",
    "import tensorflow.compat.v1 as tf\r\n",
    "from object_detection.utils import visualization_utils as vis_util\r\n",
    "from object_detection.utils import label_map_util\r\n"
   ]
  },
  {
   "cell_type": "code",
   "execution_count": 2,
   "metadata": {},
   "outputs": [],
   "source": [
    "# file_paths\r\n",
    "MODEL_DIR = 'object_detection/inference_graph'\r\n",
    "TEST_DIR = 'test/img/'\r\n",
    "CW_DIR = os.getcwd() # current working directory\r\n",
    "CKPT_DIR = os.path.join(CW_DIR, MODEL_DIR, 'frozen_inference_graph.pb') # checkpoint\r\n",
    "LABELS_DIR = os.path.join(CW_DIR, 'training', 'labelmap.pbtxt')"
   ]
  },
  {
   "cell_type": "code",
   "execution_count": 3,
   "metadata": {},
   "outputs": [
    {
     "data": {
      "text/plain": "array(['000001.jpg', '000002.jpg', '000003.jpg'], dtype='<U10')"
     },
     "execution_count": 3,
     "metadata": {},
     "output_type": "execute_result"
    }
   ],
   "source": [
    "# test data\r\n",
    "img_files = np.unique(os.listdir(TEST_DIR))  \r\n",
    "img_files[:3]"
   ]
  },
  {
   "cell_type": "markdown",
   "metadata": {},
   "source": [
    "## TensorFlow Object Detection & Networking"
   ]
  },
  {
   "cell_type": "code",
   "execution_count": 4,
   "metadata": {},
   "outputs": [
    {
     "data": {
      "text/plain": "<tensorflow.python.client.session.Session at 0x18087ec5128>"
     },
     "execution_count": 4,
     "metadata": {},
     "output_type": "execute_result"
    }
   ],
   "source": [
    "# load model\r\n",
    "detection_graph = tf.Graph()\r\n",
    "\r\n",
    "with detection_graph.as_default():\r\n",
    "    od_graph = tf.GraphDef()\r\n",
    "    with tf.gfile.GFile(CKPT_DIR, 'rb') as fid:\r\n",
    "        serialized_graph = fid.read()\r\n",
    "        od_graph.ParseFromString(serialized_graph)\r\n",
    "        tf.import_graph_def(od_graph, name='')\r\n",
    "\r\n",
    "    sess = tf.Session(graph=detection_graph)\r\n",
    "\r\n",
    "sess"
   ]
  },
  {
   "cell_type": "code",
   "execution_count": 5,
   "metadata": {},
   "outputs": [
    {
     "data": {
      "text/plain": "<tf.Tensor 'num_detections:0' shape=<unknown> dtype=float32>"
     },
     "execution_count": 5,
     "metadata": {},
     "output_type": "execute_result"
    }
   ],
   "source": [
    "# input is dendrite image\r\n",
    "img_ten = detection_graph.get_tensor_by_name('image_tensor:0')\r\n",
    "# outputs are detection boxes(where each box is a part of the image where a spine was detected), scores (where each score is a cofidence level for the spine), & classes (where each class is a label for the spine)\r\n",
    "boxes_ten = detection_graph.get_tensor_by_name('detection_boxes:0')\r\n",
    "scores_ten = detection_graph.get_tensor_by_name('detection_scores:0')\r\n",
    "classes_ten = detection_graph.get_tensor_by_name('detection_classes:0')\r\n",
    "\r\n",
    "n_detected = detection_graph.get_tensor_by_name('num_detections:0')\r\n",
    "\r\n",
    "n_detected"
   ]
  },
  {
   "cell_type": "code",
   "execution_count": 6,
   "metadata": {},
   "outputs": [],
   "source": [
    "# conduct spine detection for each dendrite img\r\n",
    "n_imgs = img_files.shape[0]\r\n",
    "cat_idx = {1: {'id': 1, 'name': 'dendrite'}}\r\n",
    "for i in range(n_imgs):\r\n",
    "    # load img and run model on it\r\n",
    "    IMG_DIR = os.path.join(CW_DIR, TEST_DIR + img_files[i])\r\n",
    "    img = cv2.imread(IMG_DIR)\r\n",
    "    expanded_img = np.expand_dims(img, axis=0)\r\n",
    "    feed_dict = {img_ten: expanded_img}\r\n",
    "    (boxes, scores, classes, num) = sess.run([boxes_ten, scores_ten, classes_ten, n_detected], feed_dict=feed_dict)\r\n",
    "    # draw boxes\r\n",
    "    _, boxes_drawn = vis_util.visualize_boxes_and_labels_on_image_array(\r\n",
    "        image=img,\r\n",
    "        boxes=np.squeeze(boxes),\r\n",
    "        classes=np.squeeze(classes).astype(np.int32),\r\n",
    "        scores=np.squeeze(scores),\r\n",
    "        category_index=cat_idx,\r\n",
    "        instance_masks=None,\r\n",
    "        instance_boundaries=None,\r\n",
    "        keypoints=None,\r\n",
    "        use_normalized_coordinates=True,\r\n",
    "        max_boxes_to_draw=20,\r\n",
    "        min_score_thresh=0.60,\r\n",
    "        agnostic_mode=False,\r\n",
    "        line_thickness=1,\r\n",
    "        groundtruth_box_visualization_color='black',\r\n",
    "        skip_scores=True,\r\n",
    "        skip_labels=True\r\n",
    "    )\r\n",
    "\r\n",
    "    scale_factor = 220  # percent increase of orginal size\r\n",
    "    width = int(img.shape[1] * scale_factor / 100)\r\n",
    "    height = int(img.shape[0] * scale_factor / 100)\r\n",
    "    dims = (width, height)\r\n",
    "    resized_img = cv2.resize(img, dims, interpolation=cv2.INTER_AREA)\r\n",
    "    # write img to file folder\r\n",
    "    cv2.imwrite('output_imgs/'+img_files[i], resized_img)"
   ]
  },
  {
   "cell_type": "code",
   "execution_count": null,
   "metadata": {},
   "outputs": [],
   "source": [
    "import matplotlib.pyplot as plt\r\n",
    "\r\n",
    "def display_images(img_files, idx=0, num_show=6):\r\n",
    "  plt.figure(figsize=(16, 12))\r\n",
    "  plt.subplots_adjust(wspace=0.05, hspace=0.01)\r\n",
    "\r\n",
    "  for i, img in enumerate(img_files[:num_show]):\r\n",
    "     plt.subplot(231 + idx)\r\n",
    "     idx += 1\r\n",
    "     img = cv2.imread(f'./output_imgs/{img}')\r\n",
    "     plt.title(f\"Dendrite {i+1}\")\r\n",
    "     plt.imshow(img)\r\n",
    "     plt.axis('off')\r\n",
    "     plt.savefig(\"example_output_img.jpg\")\r\n",
    "\r\n",
    "display_images(img_files)\r\n"
   ]
  }
 ],
 "metadata": {
  "kernelspec": {
   "display_name": "Python 3.6.5 64-bit ('tf1': conda)",
   "name": "python365jvsc74a57bd05075520071e696cb96064ddbad3e1b510e8f53f20a66ac59ab50884a472ba117"
  },
  "language_info": {
   "codemirror_mode": {
    "name": "ipython",
    "version": 3
   },
   "file_extension": ".py",
   "mimetype": "text/x-python",
   "name": "python",
   "nbconvert_exporter": "python",
   "pygments_lexer": "ipython3",
   "version": "3.6.5"
  },
  "orig_nbformat": 2
 },
 "nbformat": 4,
 "nbformat_minor": 2
}